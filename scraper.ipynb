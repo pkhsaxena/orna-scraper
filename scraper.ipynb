{
 "cells": [
  {
   "cell_type": "code",
   "execution_count": null,
   "metadata": {},
   "outputs": [],
   "source": [
    "import requests\n",
    "from bs4 import BeautifulSoup\n",
    "\n",
    "def fetch_and_save_html(url, file_name):\n",
    "    response = requests.get(url)\n",
    "    if response.status_code == 200:\n",
    "        with open(file_name, 'w', encoding='utf-8') as file:\n",
    "            file.write(response.text)\n",
    "        print(f\"HTML content saved to {file_name}\")\n",
    "    else:\n",
    "        print(f\"Failed to retrieve the webpage. Status code: {response.status_code}\")\n",
    "\n",
    "if __name__ == \"__main__\":\n",
    "    url = 'https://playorna.com/codex/items/?p=1'\n",
    "    file_name = 'items_page.html'\n",
    "    fetch_and_save_html(url, file_name)\n"
   ]
  },
  {
   "cell_type": "code",
   "execution_count": null,
   "metadata": {},
   "outputs": [],
   "source": [
    "def parse(file_name):\n",
    "    with open(file_name, 'r', encoding='utf-8') as file:\n",
    "        content = file.read()\n",
    "        content = \"\".join(line.strip() for line in content.split('\\n'))\n",
    "\n",
    "    soup = BeautifulSoup(content, 'html.parser')\n",
    "\n",
    "    # can also do { \"class\": \"codex-entries-entry\" }\n",
    "    global items\n",
    "    items = soup.find_all('a', class_='codex-entries-entry')\n",
    "\n",
    "    # for item in items:\n",
    "    #     print(item)\n",
    "    item = items[0]\n",
    "    i=1\n",
    "    print(item.contents[2].contents[0])\n",
    "    for child in item.children:\n",
    "            print(child.contents)\n",
    "            print(\"----------------\")\n",
    "    # print(items[0].find_all('div'))\n",
    "items=0\n",
    "parse('items_page.html')"
   ]
  },
  {
   "cell_type": "code",
   "execution_count": null,
   "metadata": {},
   "outputs": [],
   "source": [
    "import json\n",
    "\n",
    "codex_items=[]\n",
    "for item in items:\n",
    "    details = {}\n",
    "    codex_items.append(details)\n",
    "    details['name']=item.contents[1].contents[0]\n",
    "    details['tier'] = item.contents[2].contents[0].replace('\\u2605','')\n",
    "    details['rarity'] = item.contents[0].contents[0]['class'][0]\n",
    "    details['img'] = item.contents[0].contents[0]['src']\n",
    "\n",
    "with open('temp.dump','r',encoding='utf-8') as content:\n",
    "    lines = content.read()\n",
    "    # print(type(lines))\n",
    "    codex_items=[]\n",
    "    i=0\n",
    "    # for line in lines.split('\\n'):\n",
    "    #     # print(f'{i}: {line}')\n",
    "    #     # print(json.loads(line))\n",
    "    #     codex_items.append(json.loads(line))\n",
    "    #     print(codex_items)\n",
    "    #     i+=1\n",
    "    # print(len(codex_items))\n",
    "    [codex_items.append(json.loads(line)) for line in lines.split('\\n')]\n",
    "    # json_data = json.dumps(codex_items)\n",
    "    # print(json_data)\n",
    "        \n"
   ]
  }
 ],
 "metadata": {
  "kernelspec": {
   "display_name": "orna",
   "language": "python",
   "name": "python3"
  },
  "language_info": {
   "codemirror_mode": {
    "name": "ipython",
    "version": 3
   },
   "file_extension": ".py",
   "mimetype": "text/x-python",
   "name": "python",
   "nbconvert_exporter": "python",
   "pygments_lexer": "ipython3",
   "version": "3.13.0"
  }
 },
 "nbformat": 4,
 "nbformat_minor": 2
}
